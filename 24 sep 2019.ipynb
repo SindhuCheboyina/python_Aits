{
 "cells": [
  {
   "cell_type": "markdown",
   "metadata": {},
   "source": [
    "# Variables\n",
    "- variable is to store a value\n",
    "- Naming rules\n",
    " - should start with alphabets,underscore(_), alphanumeric(should strt with alphabet)\n",
    " - keywords and builtins cannot be used as variable names."
   ]
  },
  {
   "cell_type": "markdown",
   "metadata": {},
   "source": [
    "# code comments\n",
    " - #-single line\n",
    " - ''' text ''' (or) \"\"\" text \"\"\"  multiline"
   ]
  },
  {
   "cell_type": "markdown",
   "metadata": {},
   "source": [
    "# getting keyword list"
   ]
  },
  {
   "cell_type": "code",
   "execution_count": 1,
   "metadata": {},
   "outputs": [
    {
     "data": {
      "text/plain": [
       "['False',\n",
       " 'None',\n",
       " 'True',\n",
       " 'and',\n",
       " 'as',\n",
       " 'assert',\n",
       " 'async',\n",
       " 'await',\n",
       " 'break',\n",
       " 'class',\n",
       " 'continue',\n",
       " 'def',\n",
       " 'del',\n",
       " 'elif',\n",
       " 'else',\n",
       " 'except',\n",
       " 'finally',\n",
       " 'for',\n",
       " 'from',\n",
       " 'global',\n",
       " 'if',\n",
       " 'import',\n",
       " 'in',\n",
       " 'is',\n",
       " 'lambda',\n",
       " 'nonlocal',\n",
       " 'not',\n",
       " 'or',\n",
       " 'pass',\n",
       " 'raise',\n",
       " 'return',\n",
       " 'try',\n",
       " 'while',\n",
       " 'with',\n",
       " 'yield']"
      ]
     },
     "execution_count": 1,
     "metadata": {},
     "output_type": "execute_result"
    }
   ],
   "source": [
    "import keyword\n",
    "keyword.kwlist"
   ]
  },
  {
   "cell_type": "markdown",
   "metadata": {},
   "source": [
    "# Operators\n",
    "```\n",
    "** - power\n",
    "// - floor value(only int value)\n",
    "\n",
    "```"
   ]
  },
  {
   "cell_type": "markdown",
   "metadata": {},
   "source": [
    "## membership operators(in, not in)"
   ]
  },
  {
   "cell_type": "code",
   "execution_count": 4,
   "metadata": {},
   "outputs": [
    {
     "name": "stdout",
     "output_type": "stream",
     "text": [
      "True\n"
     ]
    }
   ],
   "source": [
    "a=[1,2,3,4,5]\n",
    "if 5 in a:\n",
    "    print(True)"
   ]
  },
  {
   "cell_type": "markdown",
   "metadata": {},
   "source": [
    "## identity operators(is, is not)"
   ]
  },
  {
   "cell_type": "code",
   "execution_count": 5,
   "metadata": {},
   "outputs": [
    {
     "name": "stdout",
     "output_type": "stream",
     "text": [
      "False\n"
     ]
    }
   ],
   "source": [
    "a=10\n",
    "b=5\n",
    "if a is b:\n",
    "    print(True)\n",
    "else:\n",
    "    print(False)"
   ]
  },
  {
   "cell_type": "markdown",
   "metadata": {},
   "source": [
    "# Expressions\n",
    " \n",
    " - operator precedency(PEMDAS)"
   ]
  },
  {
   "cell_type": "code",
   "execution_count": 8,
   "metadata": {},
   "outputs": [
    {
     "name": "stdout",
     "output_type": "stream",
     "text": [
      "11.0\n"
     ]
    }
   ],
   "source": [
    "a,b,c,d=5,4,3,2\n",
    "print(a+b*c/d)"
   ]
  },
  {
   "cell_type": "markdown",
   "metadata": {},
   "source": [
    "# Python literals\n",
    "- literal is a data which is given to variable\n",
    "- types of literals\n",
    " - string literals\n",
    "   - single line ('',\" \")\n",
    "   - multiline(''' ''' or \"\"\" \"\"\")\n",
    " - Numeric literals\n",
    "   - int, long,float,complex\n",
    " - Boolean and Special literals\n",
    "   - True, False, None\n",
    " - literal collections\n",
    "   - List, Tuple, Dictionary"
   ]
  },
  {
   "cell_type": "code",
   "execution_count": 12,
   "metadata": {},
   "outputs": [
    {
     "name": "stdout",
     "output_type": "stream",
     "text": [
      "ece students\n"
     ]
    }
   ],
   "source": [
    "# single line\n",
    "a='ece'\n",
    "b=\"students\"\n",
    "print(a,b)"
   ]
  },
  {
   "cell_type": "code",
   "execution_count": 20,
   "metadata": {},
   "outputs": [],
   "source": [
    "# multiline literal\n",
    "a='''hai\n",
    "hello\n",
    "how r u?\n",
    "'''"
   ]
  },
  {
   "cell_type": "code",
   "execution_count": 21,
   "metadata": {},
   "outputs": [
    {
     "data": {
      "text/plain": [
       "'hai\\nhello\\nhow r u?\\n'"
      ]
     },
     "execution_count": 21,
     "metadata": {},
     "output_type": "execute_result"
    }
   ],
   "source": [
    "a"
   ]
  },
  {
   "cell_type": "code",
   "execution_count": 22,
   "metadata": {},
   "outputs": [
    {
     "data": {
      "text/plain": [
       "'\\nhello\\nAITS colllge\\nTirupathi\\n'"
      ]
     },
     "execution_count": 22,
     "metadata": {},
     "output_type": "execute_result"
    }
   ],
   "source": [
    "'''\n",
    "hello\n",
    "AITS colllge\n",
    "Tirupathi\n",
    "'''"
   ]
  },
  {
   "cell_type": "markdown",
   "metadata": {},
   "source": [
    "## Reading user input"
   ]
  },
  {
   "cell_type": "code",
   "execution_count": 29,
   "metadata": {},
   "outputs": [
    {
     "name": "stdout",
     "output_type": "stream",
     "text": [
      "enter a value20\n",
      "20\n",
      "<class 'str'>\n",
      "enter a value60\n",
      "60\n",
      "<class 'int'>\n"
     ]
    }
   ],
   "source": [
    "'''\n",
    "a=5\n",
    "print(a)\n",
    "print(type(a))\n",
    "\n",
    "a='sindhu'\n",
    "print(a)\n",
    "print(type(a))\n",
    "'''\n",
    "n=input('enter a value')\n",
    "print(n)\n",
    "print(type(n))\n",
    "\n",
    "n=int(input('enter a value'))\n",
    "print(n)\n",
    "print(type(n))"
   ]
  },
  {
   "cell_type": "markdown",
   "metadata": {},
   "source": [
    "# Conditional statements\n",
    "- used for decision making\n",
    "- if the condition satisfies it just return boolean value\n",
    "- Types\n",
    " - if\n",
    " - else\n",
    " - elif"
   ]
  },
  {
   "cell_type": "markdown",
   "metadata": {},
   "source": [
    "### if statement\n",
    "```\n",
    "if(condition){\n",
    "    stmts to execute    - other langu\n",
    "}\n",
    "#### in python\n",
    "if condition:\n",
    "    stmts to execute\n",
    "else:\n",
    "    stmts to execute\n",
    "    ```\n",
    "    "
   ]
  },
  {
   "cell_type": "code",
   "execution_count": 3,
   "metadata": {},
   "outputs": [
    {
     "name": "stdout",
     "output_type": "stream",
     "text": [
      "enter u namesin\n",
      "enter password123\n",
      "valid user details\n"
     ]
    }
   ],
   "source": [
    "# valid user details or not\n",
    "uname=input('enter u name:')\n",
    "pwd= input('enter password: ')\n",
    "if uname=='sin' and pwd=='123':\n",
    "    print('valid user details')\n",
    "else:\n",
    "    print('invalid')"
   ]
  },
  {
   "cell_type": "markdown",
   "metadata": {},
   "source": [
    "# syntax for if,elif,else\n",
    "```\n",
    "if condition:\n",
    "    stmts to execute\n",
    "elif condition:\n",
    "    stmts to execute\n",
    "else:\n",
    "    stmts to execute```"
   ]
  },
  {
   "cell_type": "code",
   "execution_count": 5,
   "metadata": {},
   "outputs": [
    {
     "name": "stdout",
     "output_type": "stream",
     "text": [
      "enter number5\n",
      "5 is odd\n"
     ]
    }
   ],
   "source": [
    "# even or odd\n",
    "n= int(input('enter number'))\n",
    "if n%2==0:\n",
    "    print(n,'is even')\n",
    "else:\n",
    "    print(n, 'is odd')"
   ]
  },
  {
   "cell_type": "code",
   "execution_count": 8,
   "metadata": {},
   "outputs": [
    {
     "name": "stdout",
     "output_type": "stream",
     "text": [
      "enter a value3\n",
      "enter b value3\n",
      "enter c value3\n",
      "all are equal\n"
     ]
    }
   ],
   "source": [
    "# elif biggest among 3\n",
    "a=int(input('enter a value'))\n",
    "b=int(input('enter b value'))\n",
    "c= int(input('enter c value'))\n",
    "if a==b==c:\n",
    "    print('all are equal')\n",
    "elif a>b and a>c:\n",
    "    print(a,'is biggest')\n",
    "elif b>c:\n",
    "    print(b,'is biggest')\n",
    "else:\n",
    "    print(c,'is biggest')"
   ]
  },
  {
   "cell_type": "code",
   "execution_count": null,
   "metadata": {},
   "outputs": [],
   "source": [
    "# nested if\n",
    "a=int(input('enter a value'))\n",
    "b=int(input('enter b value'))\n",
    "c= int(input('enter c value'))\n",
    "if a==b==c:\n",
    "    print('all are equal')\n",
    "if a>b and a>c:\n",
    "    print(a,'is biggest')\n",
    "if b>c:\n",
    "    print(b,'is biggest')\n",
    "else:\n",
    "    print(c,'is biggest')"
   ]
  }
 ],
 "metadata": {
  "kernelspec": {
   "display_name": "Python 3",
   "language": "python",
   "name": "python3"
  },
  "language_info": {
   "codemirror_mode": {
    "name": "ipython",
    "version": 3
   },
   "file_extension": ".py",
   "mimetype": "text/x-python",
   "name": "python",
   "nbconvert_exporter": "python",
   "pygments_lexer": "ipython3",
   "version": "3.7.3"
  }
 },
 "nbformat": 4,
 "nbformat_minor": 2
}
